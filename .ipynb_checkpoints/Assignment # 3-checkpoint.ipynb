{
 "cells": [
  {
   "cell_type": "code",
   "execution_count": 4,
   "metadata": {},
   "outputs": [
    {
     "name": "stdout",
     "output_type": "stream",
     "text": [
      "Enter Operation \n",
      "             1. Addition \n",
      "             2. Subtraction \n",
      "             3. Multiplication \n",
      "             4. Division \n",
      "             5. Power \n",
      "8\n",
      "Enter first number: 2\n",
      "Enter second number: 2\n",
      "Invalid Operation\n",
      "Result = 0\n"
     ]
    }
   ],
   "source": [
    "# 1. Make a calculator using Python with addition , subtraction , multiplication , division and power.\n",
    "op = int(input(\"Enter Operation \\n \\\n",
    "            1. Addition \\n \\\n",
    "            2. Subtraction \\n \\\n",
    "            3. Multiplication \\n \\\n",
    "            4. Division \\n \\\n",
    "            5. Power \\n\"))\n",
    "num1 = int(input(\"Enter first number: \"))\n",
    "num2 = int(input(\"Enter second number: \"))\n",
    "res = 0\n",
    "if op == 1:\n",
    "    res = num1+num2\n",
    "elif op == 2:\n",
    "    res = num1-num2\n",
    "elif op == 3:\n",
    "    res = num1*num2\n",
    "elif op == 4:\n",
    "    res = num1/num2\n",
    "elif op == 5:\n",
    "    res = pow(num1, num2)\n",
    "else:\n",
    "    print(\"Invalid Operation\")\n",
    "print(f\"Result = {res}\")"
   ]
  },
  {
   "cell_type": "code",
   "execution_count": 8,
   "metadata": {},
   "outputs": [
    {
     "name": "stdout",
     "output_type": "stream",
     "text": [
      "Numeric value is present in the list\n"
     ]
    }
   ],
   "source": [
    "# 2. Write a program to check if there is any numeric value in list using for loop\n",
    "myList = [\"Ismail\", 'a', 23 , 15.5]\n",
    "flag = False\n",
    "for i in myList:\n",
    "    if type(i) == int or type(i) == float:\n",
    "        flag = True\n",
    "if flag:\n",
    "    print(\"Numeric value is present in the list\")\n",
    "else:\n",
    "    print(\"Numeric value not present in the list\")"
   ]
  },
  {
   "cell_type": "code",
   "execution_count": 10,
   "metadata": {},
   "outputs": [],
   "source": [
    "# 3. Write a Python script to add a key to a dictionary\n",
    "myDict = {\n",
    "    1: \"AI\",\n",
    "    2: \"IOT\",\n",
    "    3: \"CCNA\",\n",
    "}\n",
    "myDict[4] = \"Blockchain\""
   ]
  },
  {
   "cell_type": "code",
   "execution_count": 14,
   "metadata": {},
   "outputs": [
    {
     "name": "stdout",
     "output_type": "stream",
     "text": [
      "Sum = 1000\n"
     ]
    }
   ],
   "source": [
    "# 4. Write a Python program to sum all the numeric items in a dictionary\n",
    "numbers = {\"a\": 100, \"b\": 200, \"c\": 300, \"d\": 400}\n",
    "sum = 0\n",
    "for i in numbers.values():\n",
    "    sum += i\n",
    "print(f\"Sum = {sum}\")"
   ]
  },
  {
   "cell_type": "code",
   "execution_count": 24,
   "metadata": {},
   "outputs": [
    {
     "name": "stdout",
     "output_type": "stream",
     "text": [
      "[1, 3]\n"
     ]
    }
   ],
   "source": [
    "# 5. Write a program to identify duplicate values from list\n",
    "list1 = [1, 3, 2, 1, 1, 3, 5, 6, 7, 8, 1]\n",
    "duplicate = []\n",
    "for i in range(len(list1)):\n",
    "    for j in range(i+1, len(list1)):\n",
    "        if list1[i] == list1[j] and list1[i] not in duplicate: \n",
    "            duplicate.append(list1[i])\n",
    "print(duplicate)"
   ]
  },
  {
   "cell_type": "code",
   "execution_count": 27,
   "metadata": {},
   "outputs": [
    {
     "name": "stdout",
     "output_type": "stream",
     "text": [
      "Enter a key: 4\n",
      "key not exist\n"
     ]
    }
   ],
   "source": [
    "# 6. Write a Python script to check if a given key already exists in a dictionary\n",
    "myDict = {\n",
    "    1: \"AI\",\n",
    "    2: \"IOT\",\n",
    "    3: \"CCNA\",\n",
    "}\n",
    "k = int(input(\"Enter a key: \"))\n",
    "if k in myDict.keys():\n",
    "    print(\"Given key already exist\")\n",
    "else:\n",
    "    print(\"key not exist\")"
   ]
  },
  {
   "cell_type": "code",
   "execution_count": null,
   "metadata": {},
   "outputs": [],
   "source": []
  }
 ],
 "metadata": {
  "kernelspec": {
   "display_name": "Python 3",
   "language": "python",
   "name": "python3"
  },
  "language_info": {
   "codemirror_mode": {
    "name": "ipython",
    "version": 3
   },
   "file_extension": ".py",
   "mimetype": "text/x-python",
   "name": "python",
   "nbconvert_exporter": "python",
   "pygments_lexer": "ipython3",
   "version": "3.7.3"
  }
 },
 "nbformat": 4,
 "nbformat_minor": 2
}
