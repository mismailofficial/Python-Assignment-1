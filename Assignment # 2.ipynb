{
 "cells": [
  {
   "cell_type": "code",
   "execution_count": 5,
   "metadata": {},
   "outputs": [
    {
     "name": "stdout",
     "output_type": "stream",
     "text": [
      "Enter marks of subject 1: 33\n",
      "Enter marks of subject 2: 72\n",
      "Enter marks of subject 3: 22\n",
      "Enter marks of subject 4: 22\n",
      "Enter marks of subject 5: 22\n",
      "Total Marks = 171\n",
      "Percentage = 34.2\n",
      "Grade = F\n"
     ]
    }
   ],
   "source": [
    "#1. Write a program which takes 5 inputs from user for different subject’s marks, total it and generate mark sheet using grades ?\n",
    "subjects = []\n",
    "s = 0\n",
    "for i in range(5):\n",
    "    a = int(input(\"Enter marks of subject \" + str(i+1) + \": \"))\n",
    "    subjects.append(a)\n",
    "    s += a\n",
    "per = s * 100 / 500\n",
    "grade = ''\n",
    "if per >= 80:\n",
    "    grade = 'A+'\n",
    "elif per >= 70 and per < 80:\n",
    "    grade = 'A'\n",
    "elif per >= 60 and per < 70:\n",
    "    grade = 'B'\n",
    "elif per >= 50 and per < 60:\n",
    "    grade = 'C'\n",
    "elif per >= 40 and per < 50:\n",
    "    grade = 'D'\n",
    "else:\n",
    "    grade = 'F'\n",
    "\n",
    "print(\"Total Marks =\", s)\n",
    "print(\"Percentage =\", per)\n",
    "print(\"Grade =\", grade)"
   ]
  },
  {
   "cell_type": "code",
   "execution_count": 4,
   "metadata": {},
   "outputs": [
    {
     "name": "stdout",
     "output_type": "stream",
     "text": [
      "Enter a number: 6\n",
      "Number is even\n"
     ]
    }
   ],
   "source": [
    "#Write a program which take input from user and identify that the given number is even or odd?\n",
    "num = int(input(\"Enter a number: \"))\n",
    "if num%2 == 0:\n",
    "    print(\"Number is even\")\n",
    "else:\n",
    "    print(\"Number is odd\")"
   ]
  },
  {
   "cell_type": "code",
   "execution_count": 10,
   "metadata": {},
   "outputs": [
    {
     "name": "stdout",
     "output_type": "stream",
     "text": [
      "The lenght of the list is 7\n"
     ]
    }
   ],
   "source": [
    "#Write a program which print the length of the list?\n",
    "nums = [1, 2, 3, 4, 5, 6, 7]\n",
    "print(\"The lenght of the list is\", len(nums))"
   ]
  },
  {
   "cell_type": "code",
   "execution_count": 12,
   "metadata": {},
   "outputs": [
    {
     "name": "stdout",
     "output_type": "stream",
     "text": [
      "The sum of list = 28\n"
     ]
    }
   ],
   "source": [
    "#Write a Python program to sum all the numeric items in a list?\n",
    "nums = [1, 2, 3, 4, 5, 6, 7]\n",
    "print(\"The sum of list =\", sum(nums))"
   ]
  },
  {
   "cell_type": "code",
   "execution_count": 13,
   "metadata": {},
   "outputs": [
    {
     "name": "stdout",
     "output_type": "stream",
     "text": [
      "Largest Number = 89\n"
     ]
    }
   ],
   "source": [
    "#Write a Python program to get the largest number from a numeric list.\n",
    "a = [1, 1, 2, 3, 5, 8, 13, 21, 34, 55, 89]\n",
    "largest = 0\n",
    "for i in a:\n",
    "    if largest < i:\n",
    "        largest = i\n",
    "print(\"Largest Number =\", largest)"
   ]
  },
  {
   "cell_type": "code",
   "execution_count": 15,
   "metadata": {},
   "outputs": [
    {
     "name": "stdout",
     "output_type": "stream",
     "text": [
      "1\n",
      "1\n",
      "2\n",
      "3\n"
     ]
    }
   ],
   "source": [
    "#Take a list, say for example this one:\n",
    "#a = [1, 1, 2, 3, 5, 8, 13, 21, 34, 55, 89]\n",
    "#and write a program that prints out all the elements of the list that are less than 5.\n",
    "a = [1, 1, 2, 3, 5, 8, 13, 21, 34, 55, 89]\n",
    "for i in a:\n",
    "    if i < 5:\n",
    "        print(i)"
   ]
  }
 ],
 "metadata": {
  "kernelspec": {
   "display_name": "Python 3",
   "language": "python",
   "name": "python3"
  },
  "language_info": {
   "codemirror_mode": {
    "name": "ipython",
    "version": 3
   },
   "file_extension": ".py",
   "mimetype": "text/x-python",
   "name": "python",
   "nbconvert_exporter": "python",
   "pygments_lexer": "ipython3",
   "version": "3.7.3"
  }
 },
 "nbformat": 4,
 "nbformat_minor": 2
}
