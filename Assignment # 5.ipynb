{
 "cells": [
  {
   "cell_type": "markdown",
   "metadata": {},
   "source": [
    "# Question:1"
   ]
  },
  {
   "cell_type": "markdown",
   "metadata": {},
   "source": [
    "Write a Python function to calculate the factorial of a number (a non-negativeinteger). The function accepts the number as an argument. "
   ]
  },
  {
   "cell_type": "code",
   "execution_count": 1,
   "metadata": {},
   "outputs": [
    {
     "name": "stdout",
     "output_type": "stream",
     "text": [
      "Enter a number: 5\n",
      "The factorial of 5  is 120\n"
     ]
    }
   ],
   "source": [
    "def factorial(num):\n",
    "    if num == 0 or num == 1:\n",
    "        return num\n",
    "    else:\n",
    "        return num*factorial(num-1)\n",
    "\n",
    "n = int(input(\"Enter a number: \"))\n",
    "print(\"The factorial of\", n, \" is\", factorial(n))"
   ]
  },
  {
   "cell_type": "markdown",
   "metadata": {},
   "source": [
    "# Question:2"
   ]
  },
  {
   "cell_type": "markdown",
   "metadata": {},
   "source": [
    "Write a Python function that accepts a string and calculate the number of upper case letters and lower case letters."
   ]
  },
  {
   "cell_type": "code",
   "execution_count": 12,
   "metadata": {},
   "outputs": [
    {
     "name": "stdout",
     "output_type": "stream",
     "text": [
      "Enter a string: AbcDe\n",
      "There are 2 uppercase letter and 3 lowercase letter in this string\n"
     ]
    }
   ],
   "source": [
    "upper = 0\n",
    "lower = 0\n",
    "s = input(\"Enter a string: \")\n",
    "for i in s:\n",
    "    if i >= 'a' and i <= 'z':\n",
    "        lower+=1\n",
    "    elif i >= 'A' and i <= 'Z':\n",
    "        upper+=1\n",
    "        \n",
    "print(\"There are\", upper, \"uppercase letter and\", lower, \"lowercase letter in this string\")"
   ]
  },
  {
   "cell_type": "markdown",
   "metadata": {},
   "source": [
    "# Question:3"
   ]
  },
  {
   "cell_type": "markdown",
   "metadata": {},
   "source": [
    "Write a Python function to print the even numbers from a given list."
   ]
  },
  {
   "cell_type": "code",
   "execution_count": 11,
   "metadata": {},
   "outputs": [
    {
     "name": "stdout",
     "output_type": "stream",
     "text": [
      "2\n",
      "6\n",
      "6\n",
      "8\n"
     ]
    }
   ],
   "source": [
    "n = [1,2,3,6,6,8,7,9]\n",
    "for i in n:\n",
    "    if i%2 == 0:\n",
    "        print(i)"
   ]
  },
  {
   "cell_type": "markdown",
   "metadata": {},
   "source": [
    "# Question:4"
   ]
  },
  {
   "cell_type": "markdown",
   "metadata": {},
   "source": [
    "Write a Python function that checks whether a passed string is palindrome or not.\n",
    "Note: A palindrome is a word, phrase, or sequence that reads the same backward as forward, e.g., madam"
   ]
  },
  {
   "cell_type": "code",
   "execution_count": 21,
   "metadata": {},
   "outputs": [
    {
     "name": "stdout",
     "output_type": "stream",
     "text": [
      "Enter a string: Madam\n",
      "String is Palindrome\n"
     ]
    }
   ],
   "source": [
    "string = input(\"Enter a string: \").lower()\n",
    "reverse = string[::-1]\n",
    "if string == reverse:\n",
    "    print(\"String is Palindrome\")\n",
    "else:\n",
    "    print(\"String is not Palindrome\")"
   ]
  },
  {
   "cell_type": "markdown",
   "metadata": {},
   "source": [
    "# Question:5"
   ]
  },
  {
   "cell_type": "markdown",
   "metadata": {},
   "source": [
    "Write a Python function that takes a number as a parameter and check the number is prime or not."
   ]
  },
  {
   "cell_type": "code",
   "execution_count": 3,
   "metadata": {},
   "outputs": [
    {
     "name": "stdout",
     "output_type": "stream",
     "text": [
      "Enter a number: 23\n",
      "23 is a prime number\n"
     ]
    }
   ],
   "source": [
    "def isPrime(num):\n",
    "    if num < 4:\n",
    "        return True\n",
    "    else:\n",
    "        for i in range(2,num//2+1):\n",
    "            if num%i == 0:\n",
    "                return False\n",
    "        return True\n",
    "\n",
    "num = int(input(\"Enter a number: \"))\n",
    "if isPrime(num):\n",
    "    print(num,\"is a prime number\")\n",
    "else:\n",
    "    print(num,\"is not a prime number\")\n",
    "                "
   ]
  },
  {
   "cell_type": "markdown",
   "metadata": {},
   "source": [
    "# Question: 6\n",
    "Suppose a customer is shopping in a market and you need to print all the items\n",
    "which user bought from market.\n",
    "Write a function which accepts the multiple arguments of user shopping list and\n",
    "print all the items which user bought from market."
   ]
  },
  {
   "cell_type": "code",
   "execution_count": 29,
   "metadata": {},
   "outputs": [
    {
     "name": "stdout",
     "output_type": "stream",
     "text": [
      "Tomato\n",
      "Oranges\n",
      "Onion\n",
      "Milk\n"
     ]
    }
   ],
   "source": [
    "def shopping_list(*slist):\n",
    "    for i in slist:\n",
    "        print(i)\n",
    "        \n",
    "shopping_list(\"Tomato\", \"Oranges\", \"Onion\", \"Milk\")"
   ]
  }
 ],
 "metadata": {
  "kernelspec": {
   "display_name": "Python 3",
   "language": "python",
   "name": "python3"
  },
  "language_info": {
   "codemirror_mode": {
    "name": "ipython",
    "version": 3
   },
   "file_extension": ".py",
   "mimetype": "text/x-python",
   "name": "python",
   "nbconvert_exporter": "python",
   "pygments_lexer": "ipython3",
   "version": "3.7.3"
  }
 },
 "nbformat": 4,
 "nbformat_minor": 2
}
