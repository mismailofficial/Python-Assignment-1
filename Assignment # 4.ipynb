{
 "cells": [
  {
   "cell_type": "markdown",
   "metadata": {},
   "source": [
    "# Question1:\n",
    "Use a dictionary to store information about a person you know. Store their first name, last name, age,\n",
    "and the city in which they live. You should have keys such as first_name, last_name, age, and city. Print\n",
    "each piece of information stored in your dictionary. Add a new key value pair about qualification then\n",
    "update the qualification value to high academic level then delete it."
   ]
  },
  {
   "cell_type": "code",
   "execution_count": 3,
   "metadata": {},
   "outputs": [
    {
     "name": "stdout",
     "output_type": "stream",
     "text": [
      "Enter first name: Muhammad\n",
      "Enter last name: Ismail\n",
      "Enter age: 19\n",
      "Enter city: Karachi\n",
      "{'first_name': 'Muhammad', 'last_name': 'Ismail', 'age': '19', 'city': 'Karachi'}\n",
      "Enter qualification: BSSE\n",
      "BSSE\n"
     ]
    }
   ],
   "source": [
    "person_info = {}\n",
    "person_info[\"first_name\"] = input(\"Enter first name: \")\n",
    "person_info[\"last_name\"] = input(\"Enter last name: \")\n",
    "person_info[\"age\"] = input(\"Enter age: \")\n",
    "person_info[\"city\"] = input(\"Enter city: \")\n",
    "print(person_info)\n",
    "person_info[\"qualification\"] = input(\"Enter qualification: \")\n",
    "print(person_info[\"qualification\"])\n",
    "del person_info[\"qualification\"]"
   ]
  },
  {
   "cell_type": "markdown",
   "metadata": {},
   "source": [
    "# Question2:\n",
    "Make a dictionary called cities. Use the names of three cities as keys in your dictionary. Create a dictionary of information about each city and include the country that the city is in, its approximate population, and one fact about that city. The keys for each city’s dictionary should be something like country, population, and fact. Print the name of each city and all of the information you have stored about it."
   ]
  },
  {
   "cell_type": "code",
   "execution_count": 14,
   "metadata": {},
   "outputs": [
    {
     "name": "stdout",
     "output_type": "stream",
     "text": [
      "City: Karachi\n",
      "Information {'country': 'Pakistan', 'population': '14.91 million', 'fact': 'It is the most populous city in Pakistan'}\n",
      "City: London\n",
      "Information {'country': 'England', 'population': '8.9 million', 'fact': 'Capital of UK'}\n",
      "City: New York\n",
      "Information {'country': 'USA', 'population': '8.6 million', 'fact': 'Capital of USA'}\n"
     ]
    }
   ],
   "source": [
    "cities = {\"Karachi\": {}, \"London\": {}, \"New York\": {}}\n",
    "information_karachi = {\"country\": \"Pakistan\", \"population\": \"14.91 million\", \"fact\": \"It is the most populous city in Pakistan\"}\n",
    "information_london = {\"country\": \"England\", \"population\": \"8.9 million\", \"fact\": \"Capital of UK\"}\n",
    "information_ny = {\"country\": \"USA\", \"population\": \"8.6 million\", \"fact\": \"Capital of USA\"}\n",
    "\n",
    "cities[\"Karachi\"] = information_karachi\n",
    "cities[\"London\"] = information_london\n",
    "cities[\"New York\"] = information_ny\n",
    "\n",
    "for i, j in cities.items():\n",
    "    print(\"City:\",i)\n",
    "    print(\"Information\",j)"
   ]
  },
  {
   "cell_type": "markdown",
   "metadata": {},
   "source": [
    "# Question3:\n",
    "A movie theater charges different ticket prices depending on a person’s age. If a person is under the age\n",
    "of 3, the ticket is free; if they are between 3 and 12, the ticket is '$10'; and if they are over age 12, the\n",
    "ticket is $15. Write a loop in which you ask users their age, and then tell them the cost of their movie\n",
    "ticket."
   ]
  },
  {
   "cell_type": "code",
   "execution_count": 26,
   "metadata": {},
   "outputs": [
    {
     "name": "stdout",
     "output_type": "stream",
     "text": [
      "How many tickets you want to buy: 3\n",
      "Enter age: 5\n",
      "The ticket is $10\n",
      "Enter age: 2\n",
      "Ticket is free\n",
      "Enter age: 10\n",
      "The ticket is $10\n"
     ]
    }
   ],
   "source": [
    "n = int(input(\"How many tickets you want to buy: \"))\n",
    "for i in range(n):\n",
    "    age = int(input(\"Enter age: \"))\n",
    "    if age < 3:\n",
    "        print(\"Ticket is free\")\n",
    "    elif age >= 3 and age <= 12:\n",
    "        print(\"The ticket is $10\")\n",
    "    else:\n",
    "        print(\"The ticket is $15\")"
   ]
  },
  {
   "cell_type": "markdown",
   "metadata": {},
   "source": [
    "# Question4:\n",
    "Write a function called favorite_book() that accepts one parameter, title. The function should print a\n",
    "message, such as One of my favorite books is Alice in Wonderland. Call the function, making sure to\n",
    "include a book title as an argument in the function call."
   ]
  },
  {
   "cell_type": "code",
   "execution_count": 2,
   "metadata": {},
   "outputs": [
    {
     "name": "stdout",
     "output_type": "stream",
     "text": [
      "One of my favorite books is Smarter way to learn python\n"
     ]
    }
   ],
   "source": [
    "def favorite_book(title):\n",
    "    print(\"One of my favorite books is \" + title)\n",
    "    \n",
    "favorite_book(\"Smarter way to learn python\")"
   ]
  },
  {
   "cell_type": "markdown",
   "metadata": {},
   "source": [
    "# Question5:\n",
    "Guess the number game\n",
    "Write a program which randomly generate a number between 1 to 30 and ask the user in input field to\n",
    "guess the correct number. Give three chances to user guess the number and also give hint to user if\n",
    "hidden number is greater or smaller than the number he given to input field."
   ]
  },
  {
   "cell_type": "code",
   "execution_count": 23,
   "metadata": {},
   "outputs": [
    {
     "name": "stdout",
     "output_type": "stream",
     "text": [
      "Enter a number: 27\n",
      "Your answer is greater than number\n",
      "Enter a number: 10\n",
      "Your answer is less than number\n",
      "Enter a number: 15\n",
      "Your answer is less than number\n"
     ]
    }
   ],
   "source": [
    "import random\n",
    "num = random.randint(1,30)\n",
    "for i in range(3):\n",
    "    a = int(input(\"Enter a number: \"))\n",
    "    if a == num:\n",
    "        print(\"Your answer is correct\")\n",
    "        break\n",
    "    elif a < num:\n",
    "        print(\"Your answer is less than number\")\n",
    "    elif a > num:\n",
    "        print(\"Your answer is greater than number\")"
   ]
  }
 ],
 "metadata": {
  "kernelspec": {
   "display_name": "Python 3",
   "language": "python",
   "name": "python3"
  },
  "language_info": {
   "codemirror_mode": {
    "name": "ipython",
    "version": 3
   },
   "file_extension": ".py",
   "mimetype": "text/x-python",
   "name": "python",
   "nbconvert_exporter": "python",
   "pygments_lexer": "ipython3",
   "version": "3.7.3"
  }
 },
 "nbformat": 4,
 "nbformat_minor": 2
}
